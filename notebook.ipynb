{
 "cells": [
  {
   "cell_type": "code",
   "execution_count": 1,
   "metadata": {},
   "outputs": [],
   "source": [
    "import numpy as np\n",
    "\n",
    "from sklearn.datasets import load_breast_cancer\n",
    "from sklearn.model_selection import train_test_split\n",
    "from sklearn.model_selection import train_test_split, cross_val_score\n",
    "from sklearn.preprocessing import OneHotEncoder\n",
    "import csv\n",
    "\n",
    "file = open('datasets/student_data_mat.csv')\n",
    "csvreader = csv.reader(file, delimiter =';')\n",
    "header = next(csvreader)\n",
    "data = []\n",
    "\n",
    "for row in csvreader:\n",
    "  data.append(row)\n",
    "\n",
    "X = []\n",
    "Y = []\n",
    "\n",
    "\n",
    "for i in range(len(data)):\n",
    "    l: list = list(data[i])\n",
    "\n",
    "    X.append(l[:-3])\n",
    "    score = l[-1]\n",
    "\n",
    "    numericScore = int(score)\n",
    "\n",
    "    if(numericScore < 10):\n",
    "      gradeRange = 0\n",
    "    # elif(numericScore < 8):\n",
    "    #   gradeRange = 1\n",
    "    # elif(numericScore < 12):\n",
    "    #   gradeRange = 2\n",
    "    # elif(numericScore < 16):\n",
    "    #   gradeRange = 3\n",
    "    else:\n",
    "      gradeRange = 1\n",
    "      \n",
    "    Y.append(gradeRange)\n",
    "\n",
    "enc = OneHotEncoder(handle_unknown='ignore');\n",
    "X = enc.fit_transform(X)\n",
    "\n",
    "x_tr, x_te, y_tr, y_te = train_test_split(X, Y, test_size = 0.2, random_state=42, stratify=Y)"
   ]
  },
  {
   "cell_type": "code",
   "execution_count": 2,
   "metadata": {},
   "outputs": [
    {
     "data": {
      "text/plain": [
       "0.6708860759493671"
      ]
     },
     "execution_count": 2,
     "metadata": {},
     "output_type": "execute_result"
    }
   ],
   "source": [
    "from sklearn.tree import DecisionTreeClassifier\n",
    "from sklearn.preprocessing import StandardScaler\n",
    "from sklearn.model_selection import GridSearchCV\n",
    "from sklearn.metrics import accuracy_score\n",
    "\n",
    "classifier = DecisionTreeClassifier()\n",
    "param_grid = {'criterion': ['entropy', 'gini'],\n",
    "              'max_depth': range(2,20,2),\n",
    "              'min_samples_leaf': range(2,10,2),\n",
    "              'min_impurity_decrease': np.linspace(0,0.5,10)}\n",
    "gs = GridSearchCV(classifier, param_grid=param_grid)\n",
    "\n",
    "# scaler = StandardScaler(with_mean=False).fit(x_tr)\n",
    "# x_tr_scaled = scaler.transform(x_tr)\n",
    "\n",
    "# gs.fit(x_tr, y_tr)\n",
    "gs.fit(x_tr, y_tr)\n",
    "\n",
    "# y_pred = gs.predict(scaler.transform(x_te))\n",
    "y_pred = gs.predict(x_te)\n",
    "accuracy_score(y_te, y_pred)\n"
   ]
  },
  {
   "cell_type": "code",
   "execution_count": 60,
   "metadata": {},
   "outputs": [
    {
     "data": {
      "text/plain": [
       "0.620253164556962"
      ]
     },
     "execution_count": 60,
     "metadata": {},
     "output_type": "execute_result"
    }
   ],
   "source": [
    "from sklearn.neighbors import KNeighborsClassifier\n",
    "\n",
    "classifier = KNeighborsClassifier()\n",
    "\n",
    "classifier.fit(x_tr, y_tr)\n",
    "\n",
    "y_pred = classifier.predict(x_te)\n",
    "accuracy_score(y_te, y_pred)"
   ]
  },
  {
   "cell_type": "code",
   "execution_count": 61,
   "metadata": {},
   "outputs": [
    {
     "name": "stderr",
     "output_type": "stream",
     "text": [
      "/home/lvght/code/am-trab1/.venv/lib/python3.9/site-packages/sklearn/neural_network/_multilayer_perceptron.py:692: ConvergenceWarning: Stochastic Optimizer: Maximum iterations (200) reached and the optimization hasn't converged yet.\n",
      "  warnings.warn(\n"
     ]
    },
    {
     "data": {
      "text/plain": [
       "0.620253164556962"
      ]
     },
     "execution_count": 61,
     "metadata": {},
     "output_type": "execute_result"
    }
   ],
   "source": [
    "from sklearn.neighbors import KNeighborsClassifier\n",
    "from sklearn.preprocessing import StandardScaler\n",
    "\n",
    "classifier = KNeighborsClassifier()\n",
    "\n",
    "scaler = StandardScaler(with_mean=False).fit(x_tr)\n",
    "x_tr_scaled = scaler.transform(x_tr)\n",
    "\n",
    "classifier.fit(x_tr_scaled, y_tr)\n",
    "\n",
    "y_pred = classifier.predict(scaler.transform(x_te))\n",
    "accuracy_score(y_te, y_pred)\n",
    "\n",
    "from sklearn.neural_network import MLPClassifier\n",
    "\n",
    "classifier = MLPClassifier()\n",
    "\n",
    "classifier.fit(x_tr, y_tr)\n",
    "\n",
    "y_pred = classifier.predict(x_te)\n",
    "accuracy_score(y_te, y_pred)"
   ]
  },
  {
   "cell_type": "markdown",
   "metadata": {},
   "source": [
    "# Tentando com o cross validation"
   ]
  },
  {
   "cell_type": "code",
   "execution_count": 8,
   "metadata": {},
   "outputs": [
    {
     "name": "stdout",
     "output_type": "stream",
     "text": [
      "[START]  accuracy\n",
      "[ 2 ] P:  0.6044303797468354  DP:  0.0031645569620253333\n",
      "[ 3 ] P:  0.5696316262353998  DP:  0.038963750095243756\n",
      "[ 4 ] P:  0.5664556962025316  DP:  0.05247824035372468\n",
      "[ 5 ] P:  0.6109126984126985  DP:  0.08704960025763389\n",
      "[ 6 ] P:  0.620585389453314  DP:  0.07344705379215058\n",
      "[ 7 ] P:  0.6012422360248448  DP:  0.0395131259297897\n",
      "[ 8 ] P:  0.5980769230769232  DP:  0.03682272464965878\n",
      "[ 9 ] P:  0.62336860670194  DP:  0.07366773575806924\n",
      "[ 10 ] P:  0.6110887096774195  DP:  0.07275516652433249\n",
      "[ 11 ] P:  0.5985221674876847  DP:  0.08715808171293264\n",
      "[ 12 ] P:  0.5858262108262108  DP:  0.10380489079733579\n",
      "[ 13 ] P:  0.5856410256410256  DP:  0.10449826903555241\n",
      "[ 14 ] P:  0.5539243365330321  DP:  0.12866340902016668\n",
      "[END]  accuracy\n",
      "[START]  precision_macro\n",
      "[ 2 ] P:  0.5443497640899999  DP:  0.031151006326024744\n",
      "[ 3 ] P:  0.5401824645975744  DP:  0.023618540195817227\n",
      "[ 4 ] P:  0.5330947438462483  DP:  0.08586944706107126\n",
      "[ 5 ] P:  0.5577761023794789  DP:  0.07623814582511804\n",
      "[ 6 ] P:  0.6016427389049418  DP:  0.08953793214910603\n",
      "[ 7 ] P:  0.5492752581659115  DP:  0.028017910607800508\n",
      "[ 8 ] P:  0.5490067171952562  DP:  0.04187159063243937\n",
      "[ 9 ] P:  0.5776493524931614  DP:  0.07779981315765967\n",
      "[ 10 ] P:  0.5566625723310507  DP:  0.09123560493605579\n",
      "[ 11 ] P:  0.571094639733206  DP:  0.08473820193179814\n",
      "[ 12 ] P:  0.5404297052420116  DP:  0.10532322819886017\n",
      "[ 13 ] P:  0.5229337189893275  DP:  0.08492577987477325\n",
      "[ 14 ] P:  0.541480378036382  DP:  0.13154350979992596\n",
      "[END]  precision_macro\n",
      "[START]  recall_macro\n",
      "[ 2 ] P:  0.5293904208998548  DP:  0.022133526850508012\n",
      "[ 3 ] P:  0.5607744506253206  DP:  0.05223515631702192\n",
      "[ 4 ] P:  0.5943396226415094  DP:  0.07027253736301968\n",
      "[ 5 ] P:  0.566843853820598  DP:  0.1091872785154249\n",
      "[ 6 ] P:  0.5669351073762838  DP:  0.09716901061122021\n",
      "[ 7 ] P:  0.5810182137371077  DP:  0.05549193952316528\n",
      "[ 8 ] P:  0.5421118233618234  DP:  0.04406097914089104\n",
      "[ 9 ] P:  0.5563241106719368  DP:  0.0977684468254848\n",
      "[ 10 ] P:  0.6100649350649351  DP:  0.09772132795579964\n",
      "[ 11 ] P:  0.5808080808080809  DP:  0.06794982412985325\n",
      "[ 12 ] P:  0.5497685185185185  DP:  0.1194693876780482\n",
      "[ 13 ] P:  0.5445418552036199  DP:  0.08331752266869787\n",
      "[ 14 ] P:  0.5139455782312925  DP:  0.09954614225091858\n",
      "[END]  recall_macro\n",
      "[START]  f1_macro\n",
      "[ 2 ] P:  0.5530512940461483  DP:  0.011686997964871049\n",
      "[ 3 ] P:  0.5557439474106141  DP:  0.02990398522247345\n",
      "[ 4 ] P:  0.5678378023843074  DP:  0.07547329134224187\n",
      "[ 5 ] P:  0.5758139673271667  DP:  0.06137535417835735\n",
      "[ 6 ] P:  0.5933131844024143  DP:  0.08170354273937352\n",
      "[ 7 ] P:  0.5465268645101291  DP:  0.055372884488928534\n",
      "[ 8 ] P:  0.5501162559723638  DP:  0.05953791225690344\n",
      "[ 9 ] P:  0.5730083596840722  DP:  0.08007562120753935\n",
      "[ 10 ] P:  0.5648428386928135  DP:  0.08430185999764453\n",
      "[ 11 ] P:  0.5777314230955602  DP:  0.08720649788702677\n",
      "[ 12 ] P:  0.5484718695612402  DP:  0.10367079106027983\n",
      "[ 13 ] P:  0.5337047821822588  DP:  0.09539221305225619\n",
      "[ 14 ] P:  0.5084642200196013  DP:  0.13172670985889157\n",
      "[END]  f1_macro\n",
      "[START]  precision\n",
      "[ 2 ] P:  0.7162337662337662  DP:  0.001948051948051921\n",
      "[ 3 ] P:  0.721661705434525  DP:  0.023712516021605783\n",
      "[ 4 ] P:  0.7140642581819052  DP:  0.04403844186358801\n",
      "[ 5 ] P:  0.7432135988366639  DP:  0.06182012616701995\n",
      "[ 6 ] P:  0.7334731491780991  DP:  0.06763121524485614\n",
      "[ 7 ] P:  0.7091899203459494  DP:  0.05048183248414662\n",
      "[ 8 ] P:  0.7014034564400007  DP:  0.02381438655819901\n",
      "[ 9 ] P:  0.7297597859382756  DP:  0.06644242961651008\n",
      "[ 10 ] P:  0.7097326756789674  DP:  0.07308458191433655\n",
      "[ 11 ] P:  0.7289375300634923  DP:  0.08039456155516647\n",
      "[ 12 ] P:  0.7170079547788526  DP:  0.06904300427863945\n",
      "[ 13 ] P:  0.6934488588334743  DP:  0.056429553023435504\n",
      "[ 14 ] P:  0.6743221432849916  DP:  0.08120581492271199\n",
      "[END]  precision\n"
     ]
    },
    {
     "name": "stderr",
     "output_type": "stream",
     "text": [
      "Matplotlib is building the font cache; this may take a moment.\n"
     ]
    },
    {
     "ename": "ValueError",
     "evalue": "x and y must have same first dimension, but have shapes (13,) and (14,)",
     "output_type": "error",
     "traceback": [
      "\u001b[0;31m---------------------------------------------------------------------------\u001b[0m",
      "\u001b[0;31mValueError\u001b[0m                                Traceback (most recent call last)",
      "\u001b[0;32m/tmp/ipykernel_18956/77541345.py\u001b[0m in \u001b[0;36m<module>\u001b[0;34m\u001b[0m\n\u001b[1;32m     18\u001b[0m \u001b[0;34m\u001b[0m\u001b[0m\n\u001b[1;32m     19\u001b[0m \u001b[0;31m# plot the scores as a dot plot\u001b[0m\u001b[0;34m\u001b[0m\u001b[0;34m\u001b[0m\u001b[0;34m\u001b[0m\u001b[0m\n\u001b[0;32m---> 20\u001b[0;31m \u001b[0mplt\u001b[0m\u001b[0;34m.\u001b[0m\u001b[0mplot\u001b[0m\u001b[0;34m(\u001b[0m\u001b[0mrange\u001b[0m\u001b[0;34m(\u001b[0m\u001b[0;36m2\u001b[0m\u001b[0;34m,\u001b[0m \u001b[0;36m15\u001b[0m\u001b[0;34m)\u001b[0m\u001b[0;34m,\u001b[0m \u001b[0mscores\u001b[0m\u001b[0;34m)\u001b[0m\u001b[0;34m\u001b[0m\u001b[0;34m\u001b[0m\u001b[0m\n\u001b[0m\u001b[1;32m     21\u001b[0m \u001b[0;34m\u001b[0m\u001b[0m\n\u001b[1;32m     22\u001b[0m \u001b[0;31m# for k in range(2, 15):\u001b[0m\u001b[0;34m\u001b[0m\u001b[0;34m\u001b[0m\u001b[0;34m\u001b[0m\u001b[0m\n",
      "\u001b[0;32m~/code/am-trab1/.venv/lib/python3.9/site-packages/matplotlib/pyplot.py\u001b[0m in \u001b[0;36mplot\u001b[0;34m(scalex, scaley, data, *args, **kwargs)\u001b[0m\n\u001b[1;32m   3017\u001b[0m \u001b[0;34m@\u001b[0m\u001b[0m_copy_docstring_and_deprecators\u001b[0m\u001b[0;34m(\u001b[0m\u001b[0mAxes\u001b[0m\u001b[0;34m.\u001b[0m\u001b[0mplot\u001b[0m\u001b[0;34m)\u001b[0m\u001b[0;34m\u001b[0m\u001b[0;34m\u001b[0m\u001b[0m\n\u001b[1;32m   3018\u001b[0m \u001b[0;32mdef\u001b[0m \u001b[0mplot\u001b[0m\u001b[0;34m(\u001b[0m\u001b[0;34m*\u001b[0m\u001b[0margs\u001b[0m\u001b[0;34m,\u001b[0m \u001b[0mscalex\u001b[0m\u001b[0;34m=\u001b[0m\u001b[0;32mTrue\u001b[0m\u001b[0;34m,\u001b[0m \u001b[0mscaley\u001b[0m\u001b[0;34m=\u001b[0m\u001b[0;32mTrue\u001b[0m\u001b[0;34m,\u001b[0m \u001b[0mdata\u001b[0m\u001b[0;34m=\u001b[0m\u001b[0;32mNone\u001b[0m\u001b[0;34m,\u001b[0m \u001b[0;34m**\u001b[0m\u001b[0mkwargs\u001b[0m\u001b[0;34m)\u001b[0m\u001b[0;34m:\u001b[0m\u001b[0;34m\u001b[0m\u001b[0;34m\u001b[0m\u001b[0m\n\u001b[0;32m-> 3019\u001b[0;31m     return gca().plot(\n\u001b[0m\u001b[1;32m   3020\u001b[0m         \u001b[0;34m*\u001b[0m\u001b[0margs\u001b[0m\u001b[0;34m,\u001b[0m \u001b[0mscalex\u001b[0m\u001b[0;34m=\u001b[0m\u001b[0mscalex\u001b[0m\u001b[0;34m,\u001b[0m \u001b[0mscaley\u001b[0m\u001b[0;34m=\u001b[0m\u001b[0mscaley\u001b[0m\u001b[0;34m,\u001b[0m\u001b[0;34m\u001b[0m\u001b[0;34m\u001b[0m\u001b[0m\n\u001b[1;32m   3021\u001b[0m         **({\"data\": data} if data is not None else {}), **kwargs)\n",
      "\u001b[0;32m~/code/am-trab1/.venv/lib/python3.9/site-packages/matplotlib/axes/_axes.py\u001b[0m in \u001b[0;36mplot\u001b[0;34m(self, scalex, scaley, data, *args, **kwargs)\u001b[0m\n\u001b[1;32m   1603\u001b[0m         \"\"\"\n\u001b[1;32m   1604\u001b[0m         \u001b[0mkwargs\u001b[0m \u001b[0;34m=\u001b[0m \u001b[0mcbook\u001b[0m\u001b[0;34m.\u001b[0m\u001b[0mnormalize_kwargs\u001b[0m\u001b[0;34m(\u001b[0m\u001b[0mkwargs\u001b[0m\u001b[0;34m,\u001b[0m \u001b[0mmlines\u001b[0m\u001b[0;34m.\u001b[0m\u001b[0mLine2D\u001b[0m\u001b[0;34m)\u001b[0m\u001b[0;34m\u001b[0m\u001b[0;34m\u001b[0m\u001b[0m\n\u001b[0;32m-> 1605\u001b[0;31m         \u001b[0mlines\u001b[0m \u001b[0;34m=\u001b[0m \u001b[0;34m[\u001b[0m\u001b[0;34m*\u001b[0m\u001b[0mself\u001b[0m\u001b[0;34m.\u001b[0m\u001b[0m_get_lines\u001b[0m\u001b[0;34m(\u001b[0m\u001b[0;34m*\u001b[0m\u001b[0margs\u001b[0m\u001b[0;34m,\u001b[0m \u001b[0mdata\u001b[0m\u001b[0;34m=\u001b[0m\u001b[0mdata\u001b[0m\u001b[0;34m,\u001b[0m \u001b[0;34m**\u001b[0m\u001b[0mkwargs\u001b[0m\u001b[0;34m)\u001b[0m\u001b[0;34m]\u001b[0m\u001b[0;34m\u001b[0m\u001b[0;34m\u001b[0m\u001b[0m\n\u001b[0m\u001b[1;32m   1606\u001b[0m         \u001b[0;32mfor\u001b[0m \u001b[0mline\u001b[0m \u001b[0;32min\u001b[0m \u001b[0mlines\u001b[0m\u001b[0;34m:\u001b[0m\u001b[0;34m\u001b[0m\u001b[0;34m\u001b[0m\u001b[0m\n\u001b[1;32m   1607\u001b[0m             \u001b[0mself\u001b[0m\u001b[0;34m.\u001b[0m\u001b[0madd_line\u001b[0m\u001b[0;34m(\u001b[0m\u001b[0mline\u001b[0m\u001b[0;34m)\u001b[0m\u001b[0;34m\u001b[0m\u001b[0;34m\u001b[0m\u001b[0m\n",
      "\u001b[0;32m~/code/am-trab1/.venv/lib/python3.9/site-packages/matplotlib/axes/_base.py\u001b[0m in \u001b[0;36m__call__\u001b[0;34m(self, data, *args, **kwargs)\u001b[0m\n\u001b[1;32m    313\u001b[0m                 \u001b[0mthis\u001b[0m \u001b[0;34m+=\u001b[0m \u001b[0margs\u001b[0m\u001b[0;34m[\u001b[0m\u001b[0;36m0\u001b[0m\u001b[0;34m]\u001b[0m\u001b[0;34m,\u001b[0m\u001b[0;34m\u001b[0m\u001b[0;34m\u001b[0m\u001b[0m\n\u001b[1;32m    314\u001b[0m                 \u001b[0margs\u001b[0m \u001b[0;34m=\u001b[0m \u001b[0margs\u001b[0m\u001b[0;34m[\u001b[0m\u001b[0;36m1\u001b[0m\u001b[0;34m:\u001b[0m\u001b[0;34m]\u001b[0m\u001b[0;34m\u001b[0m\u001b[0;34m\u001b[0m\u001b[0m\n\u001b[0;32m--> 315\u001b[0;31m             \u001b[0;32myield\u001b[0m \u001b[0;32mfrom\u001b[0m \u001b[0mself\u001b[0m\u001b[0;34m.\u001b[0m\u001b[0m_plot_args\u001b[0m\u001b[0;34m(\u001b[0m\u001b[0mthis\u001b[0m\u001b[0;34m,\u001b[0m \u001b[0mkwargs\u001b[0m\u001b[0;34m)\u001b[0m\u001b[0;34m\u001b[0m\u001b[0;34m\u001b[0m\u001b[0m\n\u001b[0m\u001b[1;32m    316\u001b[0m \u001b[0;34m\u001b[0m\u001b[0m\n\u001b[1;32m    317\u001b[0m     \u001b[0;32mdef\u001b[0m \u001b[0mget_next_color\u001b[0m\u001b[0;34m(\u001b[0m\u001b[0mself\u001b[0m\u001b[0;34m)\u001b[0m\u001b[0;34m:\u001b[0m\u001b[0;34m\u001b[0m\u001b[0;34m\u001b[0m\u001b[0m\n",
      "\u001b[0;32m~/code/am-trab1/.venv/lib/python3.9/site-packages/matplotlib/axes/_base.py\u001b[0m in \u001b[0;36m_plot_args\u001b[0;34m(self, tup, kwargs, return_kwargs)\u001b[0m\n\u001b[1;32m    499\u001b[0m \u001b[0;34m\u001b[0m\u001b[0m\n\u001b[1;32m    500\u001b[0m         \u001b[0;32mif\u001b[0m \u001b[0mx\u001b[0m\u001b[0;34m.\u001b[0m\u001b[0mshape\u001b[0m\u001b[0;34m[\u001b[0m\u001b[0;36m0\u001b[0m\u001b[0;34m]\u001b[0m \u001b[0;34m!=\u001b[0m \u001b[0my\u001b[0m\u001b[0;34m.\u001b[0m\u001b[0mshape\u001b[0m\u001b[0;34m[\u001b[0m\u001b[0;36m0\u001b[0m\u001b[0;34m]\u001b[0m\u001b[0;34m:\u001b[0m\u001b[0;34m\u001b[0m\u001b[0;34m\u001b[0m\u001b[0m\n\u001b[0;32m--> 501\u001b[0;31m             raise ValueError(f\"x and y must have same first dimension, but \"\n\u001b[0m\u001b[1;32m    502\u001b[0m                              f\"have shapes {x.shape} and {y.shape}\")\n\u001b[1;32m    503\u001b[0m         \u001b[0;32mif\u001b[0m \u001b[0mx\u001b[0m\u001b[0;34m.\u001b[0m\u001b[0mndim\u001b[0m \u001b[0;34m>\u001b[0m \u001b[0;36m2\u001b[0m \u001b[0;32mor\u001b[0m \u001b[0my\u001b[0m\u001b[0;34m.\u001b[0m\u001b[0mndim\u001b[0m \u001b[0;34m>\u001b[0m \u001b[0;36m2\u001b[0m\u001b[0;34m:\u001b[0m\u001b[0;34m\u001b[0m\u001b[0;34m\u001b[0m\u001b[0m\n",
      "\u001b[0;31mValueError\u001b[0m: x and y must have same first dimension, but have shapes (13,) and (14,)"
     ]
    },
    {
     "data": {
      "image/png": "[encoded data removed]",
      "text/plain": [
       "<Figure size 432x288 with 1 Axes>"
      ]
     },
     "metadata": {
      "needs_background": "light"
     },
     "output_type": "display_data"
    }
   ],
   "source": [
    "# import cross validation\n",
    "from sklearn.model_selection import cross_val_score\n",
    "\n",
    "# create scores array\n",
    "scores = cross_val_score(classifier, x_tr, y_tr, cv=2)\n",
    "\n",
    "# create an array of all possible scoring methods\n",
    "scoring_methods = ['accuracy', 'precision_macro', 'recall_macro', 'f1_macro', 'precision']\n",
    "\n",
    "for scoring_method in scoring_methods:\n",
    "    print(\"[START] \", scoring_method)\n",
    "    for k in range(2, 15):\n",
    "        scores = cross_val_score(classifier, x_tr, y_tr, cv=k, scoring=scoring_method)\n",
    "        print(\"[\", k, \"]\", \"P: \", scores.mean(), \" DP: \", scores.std())\n",
    "    print(\"[END] \", scoring_method)\n",
    "\n",
    "# for k in range(2, 15):\n",
    "#     scores = cross_val_score(classifier, x_tr, y_tr, cv=k, scoring='precision')\n",
    "#     print(\"[\", k, \"]\", \"P: \", scores.mean(), \" DP: \", scores.std())\n",
    "\n",
    "# print(scores)"
   ]
  },
  {
   "cell_type": "markdown",
   "metadata": {},
   "source": [
    "# 10-fold CV teve o melhor resultado até o momento"
   ]
  },
  {
   "cell_type": "code",
   "execution_count": null,
   "metadata": {},
   "outputs": [],
   "source": []
  }
 ],
 "metadata": {
  "interpreter": {
   "hash": "30971aefbb50f0decbc1e17b2c37f88e92c95c72013818a06d103efc0e1e37bd"
  },
  "kernelspec": {
   "display_name": "Python 3.9.2 64-bit ('.venv': venv)",
   "name": "python3"
  },
  "language_info": {
   "codemirror_mode": {
    "name": "ipython",
    "version": 3
   },
   "file_extension": ".py",
   "mimetype": "text/x-python",
   "name": "python",
   "nbconvert_exporter": "python",
   "pygments_lexer": "ipython3",
   "version": "3.9.2"
  },
  "orig_nbformat": 4
 },
 "nbformat": 4,
 "nbformat_minor": 2
}
